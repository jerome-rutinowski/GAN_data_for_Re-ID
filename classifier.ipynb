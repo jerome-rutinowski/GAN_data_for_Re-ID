{
 "cells": [
  {
   "cell_type": "code",
   "execution_count": 1,
   "id": "be64ad50",
   "metadata": {},
   "outputs": [],
   "source": [
    "from PIL import Image\n",
    "import tensorflow as tf\n",
    "import os\n",
    "import numpy as np\n",
    "from tensorflow import keras\n",
    "from tensorflow.keras import layers\n",
    "from tensorflow.keras.models import *\n",
    "import matplotlib.pyplot as plt\n",
    "from tensorflow.keras.models import Sequential"
   ]
  },
  {
   "cell_type": "code",
   "execution_count": 2,
   "id": "ee393f2b",
   "metadata": {},
   "outputs": [
    {
     "name": "stdout",
     "output_type": "stream",
     "text": [
      "Found 2008 files belonging to 2 classes.\n",
      "Using 1607 files for training.\n",
      "['C', 'RL']\n",
      "Found 2008 files belonging to 2 classes.\n",
      "Using 401 files for validation.\n",
      "Training samples 1447\n",
      "validation samples 160\n",
      "test samples 401\n"
     ]
    }
   ],
   "source": [
    "AUTOTUNE = tf.data.AUTOTUNE\n",
    "\n",
    "data_dir = \"/home/jupyter-naturident/Untitled Folder/data/classif_dataset_C_RL\"\n",
    "\n",
    "train_ds = tf.keras.preprocessing.image_dataset_from_directory(\n",
    "  data_dir,\n",
    "  validation_split=0.2,\n",
    "  subset=\"training\",\n",
    "  seed=123,\n",
    "  shuffle = True,\n",
    "  image_size=(640, 1280),\n",
    "  batch_size=1)\n",
    "\n",
    "class_names = train_ds.class_names\n",
    "print(class_names)\n",
    "train_ds = train_ds.cache().prefetch(buffer_size=AUTOTUNE)\n",
    "val_ds = train_ds.take(160)\n",
    "train_ds = train_ds.skip(160)\n",
    "\n",
    "val_ds = val_ds.cache().prefetch(buffer_size=AUTOTUNE)\n",
    "\n",
    "test_ds = tf.keras.preprocessing.image_dataset_from_directory(\n",
    "  data_dir,\n",
    "  validation_split=0.2,\n",
    "  subset=\"validation\",\n",
    "  seed=123,\n",
    "  image_size=(640, 1280),\n",
    "  batch_size=1)\n",
    "print(\"Training samples \"+str(train_ds.cardinality().numpy()))\n",
    "print(\"validation samples \"+str(val_ds.cardinality().numpy()))\n",
    "print(\"test samples \"+str(test_ds.cardinality().numpy()))\n",
    "test_ds = test_ds.cache().prefetch(buffer_size=AUTOTUNE)"
   ]
  },
  {
   "cell_type": "code",
   "execution_count": 3,
   "id": "0e7bca41",
   "metadata": {},
   "outputs": [],
   "source": [
    "num_classes = len(class_names)\n",
    "\n",
    "model = Sequential([\n",
    "  layers.experimental.preprocessing.Rescaling(1./255, input_shape=(640, 1280, 3)),\n",
    "  layers.Conv2D(16, 3, padding='same', activation='relu'),\n",
    "  layers.MaxPooling2D(),\n",
    "  layers.Conv2D(32, 3, padding='same', activation='relu'),\n",
    "  layers.MaxPooling2D(),\n",
    "  layers.Conv2D(64, 3, padding='same', activation='relu'),\n",
    "  layers.MaxPooling2D(),\n",
    "  layers.Flatten(),\n",
    "  layers.Dense(128, activation='relu'),\n",
    "  layers.Dense(num_classes)\n",
    "])"
   ]
  },
  {
   "cell_type": "code",
   "execution_count": 4,
   "id": "4a1d5db3",
   "metadata": {},
   "outputs": [],
   "source": [
    "model.compile(optimizer='adam',\n",
    "              loss=tf.keras.losses.SparseCategoricalCrossentropy(from_logits=True),\n",
    "              metrics=['accuracy'])"
   ]
  },
  {
   "cell_type": "code",
   "execution_count": 5,
   "id": "781a38b5",
   "metadata": {},
   "outputs": [
    {
     "name": "stdout",
     "output_type": "stream",
     "text": [
      "Model: \"sequential\"\n",
      "_________________________________________________________________\n",
      "Layer (type)                 Output Shape              Param #   \n",
      "=================================================================\n",
      "rescaling (Rescaling)        (None, 640, 1280, 3)      0         \n",
      "_________________________________________________________________\n",
      "conv2d (Conv2D)              (None, 640, 1280, 16)     448       \n",
      "_________________________________________________________________\n",
      "max_pooling2d (MaxPooling2D) (None, 320, 640, 16)      0         \n",
      "_________________________________________________________________\n",
      "conv2d_1 (Conv2D)            (None, 320, 640, 32)      4640      \n",
      "_________________________________________________________________\n",
      "max_pooling2d_1 (MaxPooling2 (None, 160, 320, 32)      0         \n",
      "_________________________________________________________________\n",
      "conv2d_2 (Conv2D)            (None, 160, 320, 64)      18496     \n",
      "_________________________________________________________________\n",
      "max_pooling2d_2 (MaxPooling2 (None, 80, 160, 64)       0         \n",
      "_________________________________________________________________\n",
      "flatten (Flatten)            (None, 819200)            0         \n",
      "_________________________________________________________________\n",
      "dense (Dense)                (None, 128)               104857728 \n",
      "_________________________________________________________________\n",
      "dense_1 (Dense)              (None, 2)                 258       \n",
      "=================================================================\n",
      "Total params: 104,881,570\n",
      "Trainable params: 104,881,570\n",
      "Non-trainable params: 0\n",
      "_________________________________________________________________\n"
     ]
    }
   ],
   "source": [
    "model.summary()"
   ]
  },
  {
   "cell_type": "markdown",
   "id": "07478458",
   "metadata": {},
   "source": [
    "-Train, save, plot losses for the classifier to classify C, RL pallet block images\n",
    "\n",
    "*** RUN only to retrain ***"
   ]
  },
  {
   "cell_type": "code",
   "execution_count": 6,
   "id": "0d078676",
   "metadata": {},
   "outputs": [
    {
     "name": "stdout",
     "output_type": "stream",
     "text": [
      "Epoch 1/7\n",
      "1447/1447 [==============================] - 38s 17ms/step - loss: 2.7416 - accuracy: 0.7964 - val_loss: 0.3078 - val_accuracy: 0.9062\n",
      "Epoch 2/7\n",
      "1447/1447 [==============================] - 21s 14ms/step - loss: 0.2012 - accuracy: 0.9360 - val_loss: 0.4587 - val_accuracy: 0.9062\n",
      "Epoch 3/7\n",
      "1447/1447 [==============================] - 22s 15ms/step - loss: 0.1258 - accuracy: 0.9633 - val_loss: 0.3613 - val_accuracy: 0.9312\n",
      "Epoch 4/7\n",
      "1447/1447 [==============================] - 21s 14ms/step - loss: 0.1551 - accuracy: 0.9690 - val_loss: 0.1957 - val_accuracy: 0.9375\n",
      "Epoch 5/7\n",
      "1447/1447 [==============================] - 21s 14ms/step - loss: 0.1059 - accuracy: 0.9711 - val_loss: 0.1686 - val_accuracy: 0.9563\n",
      "Epoch 6/7\n",
      "1447/1447 [==============================] - 21s 15ms/step - loss: 0.1047 - accuracy: 0.9689 - val_loss: 0.1498 - val_accuracy: 0.9375\n",
      "Epoch 7/7\n",
      "1447/1447 [==============================] - 22s 15ms/step - loss: 0.0471 - accuracy: 0.9884 - val_loss: 0.2808 - val_accuracy: 0.9500\n"
     ]
    },
    {
     "data": {
      "image/png": "[encoded data removed]",
      "text/plain": [
       "<Figure size 576x576 with 2 Axes>"
      ]
     },
     "metadata": {
      "needs_background": "light"
     },
     "output_type": "display_data"
    }
   ],
   "source": [
    "epochs=7\n",
    "history = model.fit(\n",
    "  train_ds,\n",
    "  validation_data=val_ds,\n",
    "  epochs=epochs\n",
    ")\n",
    "\n",
    "json = model.to_json()\n",
    "with open(\"./model_classifier_C_RL/classif_C_RL.json\", \"w\") as json_file:\n",
    "    json_file.write(json)\n",
    "model.save_weights(\"./model_classifier_C_RL/classif_C_RL.h5\")\n",
    "\n",
    "acc = history.history['accuracy']\n",
    "val_acc = history.history['val_accuracy']\n",
    "\n",
    "loss = history.history['loss']\n",
    "val_loss = history.history['val_loss']\n",
    "\n",
    "epochs_range = range(epochs)\n",
    "\n",
    "plt.figure(figsize=(8, 8))\n",
    "plt.subplot(1, 2, 1)\n",
    "plt.plot(epochs_range, acc, label='Training Accuracy')\n",
    "plt.plot(epochs_range, val_acc, label='Validation Accuracy')\n",
    "plt.legend(loc='lower right')\n",
    "plt.title('Training and Validation Accuracy')\n",
    "\n",
    "plt.subplot(1, 2, 2)\n",
    "plt.plot(epochs_range, loss, label='Training Loss')\n",
    "plt.plot(epochs_range, val_loss, label='Validation Loss')\n",
    "plt.legend(loc='upper right')\n",
    "plt.title('Training and Validation Loss')\n",
    "plt.show()"
   ]
  },
  {
   "cell_type": "markdown",
   "id": "6b7d2adb",
   "metadata": {},
   "source": [
    "-Loading weights of already trained model"
   ]
  },
  {
   "cell_type": "code",
   "execution_count": 8,
   "id": "11c20258",
   "metadata": {},
   "outputs": [],
   "source": [
    "file = open(\"./model_classifier_C_RL/classif_C_RL.json\", 'r')\n",
    "json = file.read()\n",
    "file.close()\n",
    "model = model_from_json(json)\n",
    "model.load_weights(\"./model_classifier_C_RL/classif_C_RL.h5\")"
   ]
  },
  {
   "cell_type": "markdown",
   "id": "efd7bf1a",
   "metadata": {},
   "source": [
    "Applying the trained model(original-C,RL) to predict the original RL images."
   ]
  },
  {
   "cell_type": "code",
   "execution_count": 9,
   "id": "ae3bb58b",
   "metadata": {
    "scrolled": false
   },
   "outputs": [
    {
     "name": "stdout",
     "output_type": "stream",
     "text": [
      "WARNING:tensorflow:AutoGraph could not transform <function <lambda> at 0x7fe4e819b950> and will run it as-is.\n",
      "Please report this to the TensorFlow team. When filing the bug, set the verbosity to 10 (on Linux, `export AUTOGRAPH_VERBOSITY=10`) and attach the full output.\n",
      "Cause: module 'gast' has no attribute 'Index'\n",
      "To silence this warning, decorate the function with @tf.autograph.experimental.do_not_convert\n",
      "WARNING: AutoGraph could not transform <function <lambda> at 0x7fe4e819b950> and will run it as-is.\n",
      "Please report this to the TensorFlow team. When filing the bug, set the verbosity to 10 (on Linux, `export AUTOGRAPH_VERBOSITY=10`) and attach the full output.\n",
      "Cause: module 'gast' has no attribute 'Index'\n",
      "To silence this warning, decorate the function with @tf.autograph.experimental.do_not_convert\n"
     ]
    }
   ],
   "source": [
    "RL_ds = test_ds.filter(lambda x,l: tf.math.equal(l[0],1))\n",
    "predictions=model.predict(RL_ds)\n",
    "scores = tf.nn.softmax(predictions).numpy()\n",
    "predictions = [class_names[i] for i in np.argmax(scores,axis=-1)]\n",
    "#scores = np.argmax(scores,axis=-1)\n",
    "#scores = 100*scores"
   ]
  },
  {
   "cell_type": "markdown",
   "id": "94cbfb11",
   "metadata": {},
   "source": [
    "Calculating accuracy of the Model to classify a original RL image as RL"
   ]
  },
  {
   "cell_type": "code",
   "execution_count": 10,
   "id": "7299b7fa",
   "metadata": {},
   "outputs": [
    {
     "data": {
      "text/plain": [
       "0.9743589743589743"
      ]
     },
     "execution_count": 10,
     "metadata": {},
     "output_type": "execute_result"
    }
   ],
   "source": [
    "actuals = ['RL']*len(predictions)\n",
    "from sklearn import metrics\n",
    "metrics.accuracy_score(actuals, predictions)"
   ]
  },
  {
   "cell_type": "code",
   "execution_count": 11,
   "id": "f272c6de",
   "metadata": {},
   "outputs": [
    {
     "name": "stdout",
     "output_type": "stream",
     "text": [
      "dict_keys(['RL', 'C'])\n"
     ]
    },
    {
     "data": {
      "text/plain": [
       "dict_values([190, 5])"
      ]
     },
     "execution_count": 11,
     "metadata": {},
     "output_type": "execute_result"
    }
   ],
   "source": [
    "from collections import Counter\n",
    "print(Counter(predictions).keys())\n",
    "Counter(predictions).values()"
   ]
  },
  {
   "cell_type": "markdown",
   "id": "68ccacb0",
   "metadata": {},
   "source": [
    "Importing the images which are generated by the cyclegan"
   ]
  },
  {
   "cell_type": "code",
   "execution_count": 12,
   "id": "15b7a3e0",
   "metadata": {},
   "outputs": [
    {
     "name": "stdout",
     "output_type": "stream",
     "text": [
      "Found 1906 files belonging to 2 classes.\n"
     ]
    }
   ],
   "source": [
    "Generated_data_dir = \"/home/jupyter-naturident/cycleGAN/CycleGAN-Tensorflow-2/output/pallet-block-512/samples_testing/\"\n",
    "\n",
    "Gererated_C2RL = tf.keras.preprocessing.image_dataset_from_directory(\n",
    "  Generated_data_dir,\n",
    "  shuffle = True,\n",
    "  batch_size = 1,\n",
    "  image_size=(640, 1280),\n",
    "  )"
   ]
  },
  {
   "cell_type": "markdown",
   "id": "4adffa75",
   "metadata": {},
   "source": [
    "The trained model which is trained on original images is applied on the generated images"
   ]
  },
  {
   "cell_type": "code",
   "execution_count": 13,
   "id": "ec548d84",
   "metadata": {},
   "outputs": [
    {
     "name": "stdout",
     "output_type": "stream",
     "text": [
      "WARNING:tensorflow:AutoGraph could not transform <function <lambda> at 0x7fe43c11a6a8> and will run it as-is.\n",
      "Please report this to the TensorFlow team. When filing the bug, set the verbosity to 10 (on Linux, `export AUTOGRAPH_VERBOSITY=10`) and attach the full output.\n",
      "Cause: module 'gast' has no attribute 'Index'\n",
      "To silence this warning, decorate the function with @tf.autograph.experimental.do_not_convert\n",
      "WARNING: AutoGraph could not transform <function <lambda> at 0x7fe43c11a6a8> and will run it as-is.\n",
      "Please report this to the TensorFlow team. When filing the bug, set the verbosity to 10 (on Linux, `export AUTOGRAPH_VERBOSITY=10`) and attach the full output.\n",
      "Cause: module 'gast' has no attribute 'Index'\n",
      "To silence this warning, decorate the function with @tf.autograph.experimental.do_not_convert\n"
     ]
    }
   ],
   "source": [
    "Gen_RL = Gererated_C2RL.filter(lambda x,l: tf.math.equal(l[0],0))\n",
    "Gen_RL = Gen_RL.take(195)\n",
    "predictions_C2RL=model.predict(Gen_RL)\n",
    "scores_C2RL = tf.nn.softmax(predictions_C2RL).numpy()\n",
    "predictions_C2RL = [class_names[i] for i in np.argmax(scores_C2RL,axis=-1)]\n",
    "#scores_C2RL = scores_C2RLnp.argmax(scores_C2RL,axis=-1)\n",
    "#scores_C2RL = 100*scores_C2RL"
   ]
  },
  {
   "cell_type": "markdown",
   "id": "17fb1bfb",
   "metadata": {},
   "source": [
    "Calculating accuracy of the Model to classify a gererated RL image as RL"
   ]
  },
  {
   "cell_type": "code",
   "execution_count": 14,
   "id": "aa9620c3",
   "metadata": {},
   "outputs": [
    {
     "data": {
      "text/plain": [
       "0.9025641025641026"
      ]
     },
     "execution_count": 14,
     "metadata": {},
     "output_type": "execute_result"
    }
   ],
   "source": [
    "actuals = ['RL']*len(predictions_C2RL)\n",
    "from sklearn import metrics\n",
    "metrics.accuracy_score(actuals, predictions_C2RL)"
   ]
  },
  {
   "cell_type": "code",
   "execution_count": 15,
   "id": "e5e42cdc",
   "metadata": {},
   "outputs": [
    {
     "data": {
      "text/plain": [
       "195"
      ]
     },
     "execution_count": 15,
     "metadata": {},
     "output_type": "execute_result"
    }
   ],
   "source": [
    "len(predictions_C2RL)"
   ]
  },
  {
   "cell_type": "code",
   "execution_count": 16,
   "id": "70c75fb0",
   "metadata": {},
   "outputs": [
    {
     "name": "stdout",
     "output_type": "stream",
     "text": [
      "dict_keys(['RL', 'C'])\n"
     ]
    },
    {
     "data": {
      "text/plain": [
       "dict_values([176, 19])"
      ]
     },
     "execution_count": 16,
     "metadata": {},
     "output_type": "execute_result"
    }
   ],
   "source": [
    "from collections import Counter\n",
    "print(Counter(predictions_C2RL).keys())\n",
    "Counter(predictions_C2RL).values()"
   ]
  },
  {
   "cell_type": "code",
   "execution_count": null,
   "id": "4e9d5302",
   "metadata": {},
   "outputs": [],
   "source": []
  }
 ],
 "metadata": {
  "kernelspec": {
   "display_name": "Python 3",
   "language": "python",
   "name": "python3"
  },
  "language_info": {
   "codemirror_mode": {
    "name": "ipython",
    "version": 3
   },
   "file_extension": ".py",
   "mimetype": "text/x-python",
   "name": "python",
   "nbconvert_exporter": "python",
   "pygments_lexer": "ipython3",
   "version": "3.7.3"
  }
 },
 "nbformat": 4,
 "nbformat_minor": 5
}
